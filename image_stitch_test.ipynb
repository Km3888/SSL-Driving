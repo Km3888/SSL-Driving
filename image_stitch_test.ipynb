{
 "cells": [
  {
   "cell_type": "code",
   "execution_count": 14,
   "metadata": {},
   "outputs": [
    {
     "data": {
      "text/plain": [
       "True"
      ]
     },
     "execution_count": 14,
     "metadata": {},
     "output_type": "execute_result"
    }
   ],
   "source": [
    "# import cv2\n",
    "# import numpy as np\n",
    "\n",
    "# img1= cv2.imread(\"CAM_FRONT_LEFT.jpeg\")\n",
    "# img2= cv2.imread(\"CAM_FRONT.jpeg\")\n",
    "# img3= cv2.imread(\"CAM_FRONT_RIGHT.jpeg\")\n",
    "# img2 = img2[0:img2.shape[0], 38:img2.shape[1]]\n",
    "# img3 = img3[0:img3.shape[0], 38:img3.shape[1]]\n",
    "# #cv2.imshow(\"cropped\", crop_img)\n",
    "# img2 = np.concatenate((img1, img2), axis=1)\n",
    "# vis = np.concatenate((img2, img3), axis=1)\n",
    "\n",
    "\n",
    "# cv2.imwrite('out.png', vis)"
   ]
  },
  {
   "cell_type": "code",
   "execution_count": 16,
   "metadata": {},
   "outputs": [
    {
     "name": "stdout",
     "output_type": "stream",
     "text": [
      "['../images/CAM_FRONT_LEFT.jpeg', '../images/CAM_FRONT.jpeg', '../images/CAM_FRONT_RIGHT.jpeg', '../images/CAM_BACK_RIGHT.jpeg', '../images/CAM_BACK.jpeg', '../images/CAM_BACK_LEFT.jpeg']\n"
     ]
    },
    {
     "data": {
      "text/plain": [
       "True"
      ]
     },
     "execution_count": 16,
     "metadata": {},
     "output_type": "execute_result"
    }
   ],
   "source": [
    "fp = open('../code/txtlists/files1.txt', 'r')\n",
    "filenames = [each.rstrip('\\r\\n') for each in  fp.readlines()]\n",
    "print(filenames)\n",
    "images = [cv2.imread(each) for each in filenames]\n",
    "img1 = images[0]\n",
    "for img in images[1:]:\n",
    "    img2 = img[0:img.shape[0], 38:img.shape[1]]\n",
    "    img1 = np.concatenate((img1, img2), axis=1)\n",
    "cv2.imwrite('test.png', img1)"
   ]
  },
  {
   "cell_type": "code",
   "execution_count": 2,
   "metadata": {},
   "outputs": [],
   "source": [
    "import cv2\n",
    "import numpy as np"
   ]
  },
  {
   "cell_type": "code",
   "execution_count": 3,
   "metadata": {},
   "outputs": [],
   "source": [
    "labeled_scene_index = np.arange(106, 134)\n",
    "image_folder = './data'\n",
    "\n",
    "image_names = [\n",
    "    'CAM_FRONT_LEFT.jpeg',\n",
    "    'CAM_FRONT.jpeg',\n",
    "    'CAM_FRONT_RIGHT.jpeg',\n",
    "    'CAM_BACK_LEFT.jpeg',\n",
    "    'CAM_BACK.jpeg',\n",
    "    'CAM_BACK_RIGHT.jpeg',\n",
    "    ]"
   ]
  },
  {
   "cell_type": "code",
   "execution_count": null,
   "metadata": {},
   "outputs": [],
   "source": []
  }
 ],
 "metadata": {
  "kernelspec": {
   "display_name": "Python 3",
   "language": "python",
   "name": "python3"
  },
  "language_info": {
   "codemirror_mode": {
    "name": "ipython",
    "version": 3
   },
   "file_extension": ".py",
   "mimetype": "text/x-python",
   "name": "python",
   "nbconvert_exporter": "python",
   "pygments_lexer": "ipython3",
   "version": "3.7.5"
  }
 },
 "nbformat": 4,
 "nbformat_minor": 4
}
